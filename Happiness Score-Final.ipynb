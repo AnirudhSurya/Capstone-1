{
 "cells": [
  {
   "cell_type": "markdown",
   "metadata": {},
   "source": [
    "Import initial libraries."
   ]
  },
  {
   "cell_type": "code",
   "execution_count": 2,
   "metadata": {
    "scrolled": false
   },
   "outputs": [],
   "source": [
    "import numpy as np\n",
    "import pandas as pd\n",
    "import matplotlib.pyplot as plt\n",
    "\n",
    "# from sklearn.datasets import load_boston\n",
    "from sklearn.model_selection import train_test_split\n",
    "from mpl_toolkits import mplot3d\n",
    "\n",
    "%matplotlib inline"
   ]
  },
  {
   "cell_type": "markdown",
   "metadata": {},
   "source": [
    "Loading the three different csv files i.e. '2015.csv','2016.csv' and '2017.csv'."
   ]
  },
  {
   "cell_type": "code",
   "execution_count": 3,
   "metadata": {},
   "outputs": [
    {
     "data": {
      "text/html": [
       "<div>\n",
       "<style scoped>\n",
       "    .dataframe tbody tr th:only-of-type {\n",
       "        vertical-align: middle;\n",
       "    }\n",
       "\n",
       "    .dataframe tbody tr th {\n",
       "        vertical-align: top;\n",
       "    }\n",
       "\n",
       "    .dataframe thead th {\n",
       "        text-align: right;\n",
       "    }\n",
       "</style>\n",
       "<table border=\"1\" class=\"dataframe\">\n",
       "  <thead>\n",
       "    <tr style=\"text-align: right;\">\n",
       "      <th></th>\n",
       "      <th>Country</th>\n",
       "      <th>Happiness.Rank</th>\n",
       "      <th>Happiness.Score</th>\n",
       "      <th>Whisker.high</th>\n",
       "      <th>Whisker.low</th>\n",
       "      <th>Economy..GDP.per.Capita.</th>\n",
       "      <th>Family</th>\n",
       "      <th>Health..Life.Expectancy.</th>\n",
       "      <th>Freedom</th>\n",
       "      <th>Generosity</th>\n",
       "      <th>Trust..Government.Corruption.</th>\n",
       "      <th>Dystopia.Residual</th>\n",
       "    </tr>\n",
       "  </thead>\n",
       "  <tbody>\n",
       "    <tr>\n",
       "      <th>0</th>\n",
       "      <td>Norway</td>\n",
       "      <td>1</td>\n",
       "      <td>7.537</td>\n",
       "      <td>7.594445</td>\n",
       "      <td>7.479556</td>\n",
       "      <td>1.616463</td>\n",
       "      <td>1.533524</td>\n",
       "      <td>0.796667</td>\n",
       "      <td>0.635423</td>\n",
       "      <td>0.362012</td>\n",
       "      <td>0.315964</td>\n",
       "      <td>2.277027</td>\n",
       "    </tr>\n",
       "    <tr>\n",
       "      <th>1</th>\n",
       "      <td>Denmark</td>\n",
       "      <td>2</td>\n",
       "      <td>7.522</td>\n",
       "      <td>7.581728</td>\n",
       "      <td>7.462272</td>\n",
       "      <td>1.482383</td>\n",
       "      <td>1.551122</td>\n",
       "      <td>0.792566</td>\n",
       "      <td>0.626007</td>\n",
       "      <td>0.355280</td>\n",
       "      <td>0.400770</td>\n",
       "      <td>2.313707</td>\n",
       "    </tr>\n",
       "    <tr>\n",
       "      <th>2</th>\n",
       "      <td>Iceland</td>\n",
       "      <td>3</td>\n",
       "      <td>7.504</td>\n",
       "      <td>7.622030</td>\n",
       "      <td>7.385970</td>\n",
       "      <td>1.480633</td>\n",
       "      <td>1.610574</td>\n",
       "      <td>0.833552</td>\n",
       "      <td>0.627163</td>\n",
       "      <td>0.475540</td>\n",
       "      <td>0.153527</td>\n",
       "      <td>2.322715</td>\n",
       "    </tr>\n",
       "    <tr>\n",
       "      <th>3</th>\n",
       "      <td>Switzerland</td>\n",
       "      <td>4</td>\n",
       "      <td>7.494</td>\n",
       "      <td>7.561772</td>\n",
       "      <td>7.426227</td>\n",
       "      <td>1.564980</td>\n",
       "      <td>1.516912</td>\n",
       "      <td>0.858131</td>\n",
       "      <td>0.620071</td>\n",
       "      <td>0.290549</td>\n",
       "      <td>0.367007</td>\n",
       "      <td>2.276716</td>\n",
       "    </tr>\n",
       "    <tr>\n",
       "      <th>4</th>\n",
       "      <td>Finland</td>\n",
       "      <td>5</td>\n",
       "      <td>7.469</td>\n",
       "      <td>7.527542</td>\n",
       "      <td>7.410458</td>\n",
       "      <td>1.443572</td>\n",
       "      <td>1.540247</td>\n",
       "      <td>0.809158</td>\n",
       "      <td>0.617951</td>\n",
       "      <td>0.245483</td>\n",
       "      <td>0.382612</td>\n",
       "      <td>2.430182</td>\n",
       "    </tr>\n",
       "  </tbody>\n",
       "</table>\n",
       "</div>"
      ],
      "text/plain": [
       "       Country  Happiness.Rank  Happiness.Score  Whisker.high  Whisker.low  \\\n",
       "0       Norway               1            7.537      7.594445     7.479556   \n",
       "1      Denmark               2            7.522      7.581728     7.462272   \n",
       "2      Iceland               3            7.504      7.622030     7.385970   \n",
       "3  Switzerland               4            7.494      7.561772     7.426227   \n",
       "4      Finland               5            7.469      7.527542     7.410458   \n",
       "\n",
       "   Economy..GDP.per.Capita.    Family  Health..Life.Expectancy.   Freedom  \\\n",
       "0                  1.616463  1.533524                  0.796667  0.635423   \n",
       "1                  1.482383  1.551122                  0.792566  0.626007   \n",
       "2                  1.480633  1.610574                  0.833552  0.627163   \n",
       "3                  1.564980  1.516912                  0.858131  0.620071   \n",
       "4                  1.443572  1.540247                  0.809158  0.617951   \n",
       "\n",
       "   Generosity  Trust..Government.Corruption.  Dystopia.Residual  \n",
       "0    0.362012                       0.315964           2.277027  \n",
       "1    0.355280                       0.400770           2.313707  \n",
       "2    0.475540                       0.153527           2.322715  \n",
       "3    0.290549                       0.367007           2.276716  \n",
       "4    0.245483                       0.382612           2.430182  "
      ]
     },
     "execution_count": 3,
     "metadata": {},
     "output_type": "execute_result"
    }
   ],
   "source": [
    "data1= pd.read_csv('2015.csv')\n",
    "data2= pd.read_csv('2016.csv')\n",
    "data3= pd.read_csv('2017.csv')\n",
    "data3.head()"
   ]
  },
  {
   "cell_type": "markdown",
   "metadata": {},
   "source": [
    "Dropping the un-necessary and uncommon features from all the 3 datasets to be able to concatenate it row-wise."
   ]
  },
  {
   "cell_type": "code",
   "execution_count": 4,
   "metadata": {},
   "outputs": [],
   "source": [
    "features1 = data1.drop(['Country','Region','Standard Error','Happiness Score','Happiness Rank'],axis = 1)\n",
    "features2 = data2.drop(['Country','Region','Lower Confidence Interval','Upper Confidence Interval','Happiness Score','Happiness Rank'], axis = 1)\n",
    "features3 = data3.drop(['Country','Whisker.high','Whisker.low','Happiness.Score','Happiness.Rank'],axis = 1)"
   ]
  },
  {
   "cell_type": "code",
   "execution_count": 5,
   "metadata": {
    "scrolled": true
   },
   "outputs": [
    {
     "data": {
      "text/html": [
       "<div>\n",
       "<style scoped>\n",
       "    .dataframe tbody tr th:only-of-type {\n",
       "        vertical-align: middle;\n",
       "    }\n",
       "\n",
       "    .dataframe tbody tr th {\n",
       "        vertical-align: top;\n",
       "    }\n",
       "\n",
       "    .dataframe thead th {\n",
       "        text-align: right;\n",
       "    }\n",
       "</style>\n",
       "<table border=\"1\" class=\"dataframe\">\n",
       "  <thead>\n",
       "    <tr style=\"text-align: right;\">\n",
       "      <th></th>\n",
       "      <th>Economy..GDP.per.Capita.</th>\n",
       "      <th>Family</th>\n",
       "      <th>Health..Life.Expectancy.</th>\n",
       "      <th>Freedom</th>\n",
       "      <th>Generosity</th>\n",
       "      <th>Trust..Government.Corruption.</th>\n",
       "      <th>Dystopia.Residual</th>\n",
       "    </tr>\n",
       "  </thead>\n",
       "  <tbody>\n",
       "    <tr>\n",
       "      <th>0</th>\n",
       "      <td>1.616463</td>\n",
       "      <td>1.533524</td>\n",
       "      <td>0.796667</td>\n",
       "      <td>0.635423</td>\n",
       "      <td>0.362012</td>\n",
       "      <td>0.315964</td>\n",
       "      <td>2.277027</td>\n",
       "    </tr>\n",
       "    <tr>\n",
       "      <th>1</th>\n",
       "      <td>1.482383</td>\n",
       "      <td>1.551122</td>\n",
       "      <td>0.792566</td>\n",
       "      <td>0.626007</td>\n",
       "      <td>0.355280</td>\n",
       "      <td>0.400770</td>\n",
       "      <td>2.313707</td>\n",
       "    </tr>\n",
       "    <tr>\n",
       "      <th>2</th>\n",
       "      <td>1.480633</td>\n",
       "      <td>1.610574</td>\n",
       "      <td>0.833552</td>\n",
       "      <td>0.627163</td>\n",
       "      <td>0.475540</td>\n",
       "      <td>0.153527</td>\n",
       "      <td>2.322715</td>\n",
       "    </tr>\n",
       "    <tr>\n",
       "      <th>3</th>\n",
       "      <td>1.564980</td>\n",
       "      <td>1.516912</td>\n",
       "      <td>0.858131</td>\n",
       "      <td>0.620071</td>\n",
       "      <td>0.290549</td>\n",
       "      <td>0.367007</td>\n",
       "      <td>2.276716</td>\n",
       "    </tr>\n",
       "    <tr>\n",
       "      <th>4</th>\n",
       "      <td>1.443572</td>\n",
       "      <td>1.540247</td>\n",
       "      <td>0.809158</td>\n",
       "      <td>0.617951</td>\n",
       "      <td>0.245483</td>\n",
       "      <td>0.382612</td>\n",
       "      <td>2.430182</td>\n",
       "    </tr>\n",
       "  </tbody>\n",
       "</table>\n",
       "</div>"
      ],
      "text/plain": [
       "   Economy..GDP.per.Capita.    Family  Health..Life.Expectancy.   Freedom  \\\n",
       "0                  1.616463  1.533524                  0.796667  0.635423   \n",
       "1                  1.482383  1.551122                  0.792566  0.626007   \n",
       "2                  1.480633  1.610574                  0.833552  0.627163   \n",
       "3                  1.564980  1.516912                  0.858131  0.620071   \n",
       "4                  1.443572  1.540247                  0.809158  0.617951   \n",
       "\n",
       "   Generosity  Trust..Government.Corruption.  Dystopia.Residual  \n",
       "0    0.362012                       0.315964           2.277027  \n",
       "1    0.355280                       0.400770           2.313707  \n",
       "2    0.475540                       0.153527           2.322715  \n",
       "3    0.290549                       0.367007           2.276716  \n",
       "4    0.245483                       0.382612           2.430182  "
      ]
     },
     "execution_count": 5,
     "metadata": {},
     "output_type": "execute_result"
    }
   ],
   "source": [
    "features3.head()"
   ]
  },
  {
   "cell_type": "markdown",
   "metadata": {},
   "source": [
    "Creating three different targets from the three different datasets."
   ]
  },
  {
   "cell_type": "code",
   "execution_count": 6,
   "metadata": {},
   "outputs": [],
   "source": [
    "target1=data1['Happiness Score']\n",
    "target2=data2['Happiness Score']\n",
    "target3=data3['Happiness.Score']"
   ]
  },
  {
   "cell_type": "code",
   "execution_count": 7,
   "metadata": {},
   "outputs": [
    {
     "data": {
      "text/html": [
       "<div>\n",
       "<style scoped>\n",
       "    .dataframe tbody tr th:only-of-type {\n",
       "        vertical-align: middle;\n",
       "    }\n",
       "\n",
       "    .dataframe tbody tr th {\n",
       "        vertical-align: top;\n",
       "    }\n",
       "\n",
       "    .dataframe thead th {\n",
       "        text-align: right;\n",
       "    }\n",
       "</style>\n",
       "<table border=\"1\" class=\"dataframe\">\n",
       "  <thead>\n",
       "    <tr style=\"text-align: right;\">\n",
       "      <th></th>\n",
       "      <th>Economy (GDP per Capita)</th>\n",
       "      <th>Family</th>\n",
       "      <th>Health (Life Expectancy)</th>\n",
       "      <th>Freedom</th>\n",
       "      <th>Trust (Government Corruption)</th>\n",
       "      <th>Generosity</th>\n",
       "      <th>Dystopia Residual</th>\n",
       "    </tr>\n",
       "  </thead>\n",
       "  <tbody>\n",
       "    <tr>\n",
       "      <th>0</th>\n",
       "      <td>1.39651</td>\n",
       "      <td>1.34951</td>\n",
       "      <td>0.94143</td>\n",
       "      <td>0.66557</td>\n",
       "      <td>0.41978</td>\n",
       "      <td>0.29678</td>\n",
       "      <td>2.51738</td>\n",
       "    </tr>\n",
       "    <tr>\n",
       "      <th>1</th>\n",
       "      <td>1.30232</td>\n",
       "      <td>1.40223</td>\n",
       "      <td>0.94784</td>\n",
       "      <td>0.62877</td>\n",
       "      <td>0.14145</td>\n",
       "      <td>0.43630</td>\n",
       "      <td>2.70201</td>\n",
       "    </tr>\n",
       "    <tr>\n",
       "      <th>2</th>\n",
       "      <td>1.32548</td>\n",
       "      <td>1.36058</td>\n",
       "      <td>0.87464</td>\n",
       "      <td>0.64938</td>\n",
       "      <td>0.48357</td>\n",
       "      <td>0.34139</td>\n",
       "      <td>2.49204</td>\n",
       "    </tr>\n",
       "    <tr>\n",
       "      <th>3</th>\n",
       "      <td>1.45900</td>\n",
       "      <td>1.33095</td>\n",
       "      <td>0.88521</td>\n",
       "      <td>0.66973</td>\n",
       "      <td>0.36503</td>\n",
       "      <td>0.34699</td>\n",
       "      <td>2.46531</td>\n",
       "    </tr>\n",
       "    <tr>\n",
       "      <th>4</th>\n",
       "      <td>1.32629</td>\n",
       "      <td>1.32261</td>\n",
       "      <td>0.90563</td>\n",
       "      <td>0.63297</td>\n",
       "      <td>0.32957</td>\n",
       "      <td>0.45811</td>\n",
       "      <td>2.45176</td>\n",
       "    </tr>\n",
       "  </tbody>\n",
       "</table>\n",
       "</div>"
      ],
      "text/plain": [
       "   Economy (GDP per Capita)   Family  Health (Life Expectancy)  Freedom  \\\n",
       "0                   1.39651  1.34951                   0.94143  0.66557   \n",
       "1                   1.30232  1.40223                   0.94784  0.62877   \n",
       "2                   1.32548  1.36058                   0.87464  0.64938   \n",
       "3                   1.45900  1.33095                   0.88521  0.66973   \n",
       "4                   1.32629  1.32261                   0.90563  0.63297   \n",
       "\n",
       "   Trust (Government Corruption)  Generosity  Dystopia Residual  \n",
       "0                        0.41978     0.29678            2.51738  \n",
       "1                        0.14145     0.43630            2.70201  \n",
       "2                        0.48357     0.34139            2.49204  \n",
       "3                        0.36503     0.34699            2.46531  \n",
       "4                        0.32957     0.45811            2.45176  "
      ]
     },
     "execution_count": 7,
     "metadata": {},
     "output_type": "execute_result"
    }
   ],
   "source": [
    "features1.head()"
   ]
  },
  {
   "cell_type": "code",
   "execution_count": 8,
   "metadata": {
    "scrolled": true
   },
   "outputs": [
    {
     "data": {
      "text/html": [
       "<div>\n",
       "<style scoped>\n",
       "    .dataframe tbody tr th:only-of-type {\n",
       "        vertical-align: middle;\n",
       "    }\n",
       "\n",
       "    .dataframe tbody tr th {\n",
       "        vertical-align: top;\n",
       "    }\n",
       "\n",
       "    .dataframe thead th {\n",
       "        text-align: right;\n",
       "    }\n",
       "</style>\n",
       "<table border=\"1\" class=\"dataframe\">\n",
       "  <thead>\n",
       "    <tr style=\"text-align: right;\">\n",
       "      <th></th>\n",
       "      <th>Economy..GDP.per.Capita.</th>\n",
       "      <th>Family</th>\n",
       "      <th>Health..Life.Expectancy.</th>\n",
       "      <th>Freedom</th>\n",
       "      <th>Generosity</th>\n",
       "      <th>Trust..Government.Corruption.</th>\n",
       "      <th>Dystopia.Residual</th>\n",
       "    </tr>\n",
       "  </thead>\n",
       "  <tbody>\n",
       "    <tr>\n",
       "      <th>0</th>\n",
       "      <td>1.616463</td>\n",
       "      <td>1.533524</td>\n",
       "      <td>0.796667</td>\n",
       "      <td>0.635423</td>\n",
       "      <td>0.362012</td>\n",
       "      <td>0.315964</td>\n",
       "      <td>2.277027</td>\n",
       "    </tr>\n",
       "    <tr>\n",
       "      <th>1</th>\n",
       "      <td>1.482383</td>\n",
       "      <td>1.551122</td>\n",
       "      <td>0.792566</td>\n",
       "      <td>0.626007</td>\n",
       "      <td>0.355280</td>\n",
       "      <td>0.400770</td>\n",
       "      <td>2.313707</td>\n",
       "    </tr>\n",
       "    <tr>\n",
       "      <th>2</th>\n",
       "      <td>1.480633</td>\n",
       "      <td>1.610574</td>\n",
       "      <td>0.833552</td>\n",
       "      <td>0.627163</td>\n",
       "      <td>0.475540</td>\n",
       "      <td>0.153527</td>\n",
       "      <td>2.322715</td>\n",
       "    </tr>\n",
       "    <tr>\n",
       "      <th>3</th>\n",
       "      <td>1.564980</td>\n",
       "      <td>1.516912</td>\n",
       "      <td>0.858131</td>\n",
       "      <td>0.620071</td>\n",
       "      <td>0.290549</td>\n",
       "      <td>0.367007</td>\n",
       "      <td>2.276716</td>\n",
       "    </tr>\n",
       "    <tr>\n",
       "      <th>4</th>\n",
       "      <td>1.443572</td>\n",
       "      <td>1.540247</td>\n",
       "      <td>0.809158</td>\n",
       "      <td>0.617951</td>\n",
       "      <td>0.245483</td>\n",
       "      <td>0.382612</td>\n",
       "      <td>2.430182</td>\n",
       "    </tr>\n",
       "  </tbody>\n",
       "</table>\n",
       "</div>"
      ],
      "text/plain": [
       "   Economy..GDP.per.Capita.    Family  Health..Life.Expectancy.   Freedom  \\\n",
       "0                  1.616463  1.533524                  0.796667  0.635423   \n",
       "1                  1.482383  1.551122                  0.792566  0.626007   \n",
       "2                  1.480633  1.610574                  0.833552  0.627163   \n",
       "3                  1.564980  1.516912                  0.858131  0.620071   \n",
       "4                  1.443572  1.540247                  0.809158  0.617951   \n",
       "\n",
       "   Generosity  Trust..Government.Corruption.  Dystopia.Residual  \n",
       "0    0.362012                       0.315964           2.277027  \n",
       "1    0.355280                       0.400770           2.313707  \n",
       "2    0.475540                       0.153527           2.322715  \n",
       "3    0.290549                       0.367007           2.276716  \n",
       "4    0.245483                       0.382612           2.430182  "
      ]
     },
     "execution_count": 8,
     "metadata": {},
     "output_type": "execute_result"
    }
   ],
   "source": [
    "features3.head()"
   ]
  },
  {
   "cell_type": "code",
   "execution_count": 9,
   "metadata": {},
   "outputs": [
    {
     "data": {
      "text/plain": [
       "Index(['Economy..GDP.per.Capita.', 'Family', 'Health..Life.Expectancy.',\n",
       "       'Freedom', 'Generosity', 'Trust..Government.Corruption.',\n",
       "       'Dystopia.Residual'],\n",
       "      dtype='object')"
      ]
     },
     "execution_count": 9,
     "metadata": {},
     "output_type": "execute_result"
    }
   ],
   "source": [
    "features3.keys()"
   ]
  },
  {
   "cell_type": "markdown",
   "metadata": {},
   "source": [
    "renaming all the keys of features3 to match the keys of the remaining two features,i.e. features1 and features2."
   ]
  },
  {
   "cell_type": "code",
   "execution_count": 10,
   "metadata": {},
   "outputs": [],
   "source": [
    "features3 = features3.rename(index=str, columns=\n",
    "{\n",
    "    \"Happiness.Score\": \"Happiness Score\",\n",
    "    'Economy..GDP.per.Capita.': \"Economy (GDP per Capita)\",\n",
    "    \"Health..Life.Expectancy.\": \"Health (Life Expectancy)\",\n",
    "    \"Trust..Government.Corruption.\": \"Trust (Government Corruption)\",\n",
    "    \"Dystopia.Residual\": \"Dystopia Residual\"\n",
    "    \n",
    "})"
   ]
  },
  {
   "cell_type": "code",
   "execution_count": 11,
   "metadata": {},
   "outputs": [
    {
     "data": {
      "text/html": [
       "<div>\n",
       "<style scoped>\n",
       "    .dataframe tbody tr th:only-of-type {\n",
       "        vertical-align: middle;\n",
       "    }\n",
       "\n",
       "    .dataframe tbody tr th {\n",
       "        vertical-align: top;\n",
       "    }\n",
       "\n",
       "    .dataframe thead th {\n",
       "        text-align: right;\n",
       "    }\n",
       "</style>\n",
       "<table border=\"1\" class=\"dataframe\">\n",
       "  <thead>\n",
       "    <tr style=\"text-align: right;\">\n",
       "      <th></th>\n",
       "      <th>Economy (GDP per Capita)</th>\n",
       "      <th>Family</th>\n",
       "      <th>Health (Life Expectancy)</th>\n",
       "      <th>Freedom</th>\n",
       "      <th>Generosity</th>\n",
       "      <th>Trust (Government Corruption)</th>\n",
       "      <th>Dystopia Residual</th>\n",
       "    </tr>\n",
       "  </thead>\n",
       "  <tbody>\n",
       "    <tr>\n",
       "      <th>0</th>\n",
       "      <td>1.616463</td>\n",
       "      <td>1.533524</td>\n",
       "      <td>0.796667</td>\n",
       "      <td>0.635423</td>\n",
       "      <td>0.362012</td>\n",
       "      <td>0.315964</td>\n",
       "      <td>2.277027</td>\n",
       "    </tr>\n",
       "    <tr>\n",
       "      <th>1</th>\n",
       "      <td>1.482383</td>\n",
       "      <td>1.551122</td>\n",
       "      <td>0.792566</td>\n",
       "      <td>0.626007</td>\n",
       "      <td>0.355280</td>\n",
       "      <td>0.400770</td>\n",
       "      <td>2.313707</td>\n",
       "    </tr>\n",
       "    <tr>\n",
       "      <th>2</th>\n",
       "      <td>1.480633</td>\n",
       "      <td>1.610574</td>\n",
       "      <td>0.833552</td>\n",
       "      <td>0.627163</td>\n",
       "      <td>0.475540</td>\n",
       "      <td>0.153527</td>\n",
       "      <td>2.322715</td>\n",
       "    </tr>\n",
       "    <tr>\n",
       "      <th>3</th>\n",
       "      <td>1.564980</td>\n",
       "      <td>1.516912</td>\n",
       "      <td>0.858131</td>\n",
       "      <td>0.620071</td>\n",
       "      <td>0.290549</td>\n",
       "      <td>0.367007</td>\n",
       "      <td>2.276716</td>\n",
       "    </tr>\n",
       "    <tr>\n",
       "      <th>4</th>\n",
       "      <td>1.443572</td>\n",
       "      <td>1.540247</td>\n",
       "      <td>0.809158</td>\n",
       "      <td>0.617951</td>\n",
       "      <td>0.245483</td>\n",
       "      <td>0.382612</td>\n",
       "      <td>2.430182</td>\n",
       "    </tr>\n",
       "  </tbody>\n",
       "</table>\n",
       "</div>"
      ],
      "text/plain": [
       "   Economy (GDP per Capita)    Family  Health (Life Expectancy)   Freedom  \\\n",
       "0                  1.616463  1.533524                  0.796667  0.635423   \n",
       "1                  1.482383  1.551122                  0.792566  0.626007   \n",
       "2                  1.480633  1.610574                  0.833552  0.627163   \n",
       "3                  1.564980  1.516912                  0.858131  0.620071   \n",
       "4                  1.443572  1.540247                  0.809158  0.617951   \n",
       "\n",
       "   Generosity  Trust (Government Corruption)  Dystopia Residual  \n",
       "0    0.362012                       0.315964           2.277027  \n",
       "1    0.355280                       0.400770           2.313707  \n",
       "2    0.475540                       0.153527           2.322715  \n",
       "3    0.290549                       0.367007           2.276716  \n",
       "4    0.245483                       0.382612           2.430182  "
      ]
     },
     "execution_count": 11,
     "metadata": {},
     "output_type": "execute_result"
    }
   ],
   "source": [
    "features3.head()"
   ]
  },
  {
   "cell_type": "code",
   "execution_count": 12,
   "metadata": {},
   "outputs": [
    {
     "data": {
      "text/plain": [
       "Index(['Economy (GDP per Capita)', 'Family', 'Health (Life Expectancy)',\n",
       "       'Freedom', 'Generosity', 'Trust (Government Corruption)',\n",
       "       'Dystopia Residual'],\n",
       "      dtype='object')"
      ]
     },
     "execution_count": 12,
     "metadata": {},
     "output_type": "execute_result"
    }
   ],
   "source": [
    "features3.keys()"
   ]
  },
  {
   "cell_type": "markdown",
   "metadata": {},
   "source": [
    "As there are three different targets,we have to concatenate all of them into one single final target.\n",
    "Similarly for all the features and after the concatenation put the features and target in individual dataframes."
   ]
  },
  {
   "cell_type": "code",
   "execution_count": 13,
   "metadata": {},
   "outputs": [
    {
     "data": {
      "text/html": [
       "<div>\n",
       "<style scoped>\n",
       "    .dataframe tbody tr th:only-of-type {\n",
       "        vertical-align: middle;\n",
       "    }\n",
       "\n",
       "    .dataframe tbody tr th {\n",
       "        vertical-align: top;\n",
       "    }\n",
       "\n",
       "    .dataframe thead th {\n",
       "        text-align: right;\n",
       "    }\n",
       "</style>\n",
       "<table border=\"1\" class=\"dataframe\">\n",
       "  <thead>\n",
       "    <tr style=\"text-align: right;\">\n",
       "      <th></th>\n",
       "      <th>Economy (GDP per Capita)</th>\n",
       "      <th>Family</th>\n",
       "      <th>Health (Life Expectancy)</th>\n",
       "      <th>Freedom</th>\n",
       "      <th>Generosity</th>\n",
       "      <th>Trust (Government Corruption)</th>\n",
       "      <th>Dystopia Residual</th>\n",
       "    </tr>\n",
       "  </thead>\n",
       "  <tbody>\n",
       "    <tr>\n",
       "      <th>0</th>\n",
       "      <td>1.39651</td>\n",
       "      <td>1.34951</td>\n",
       "      <td>0.94143</td>\n",
       "      <td>0.66557</td>\n",
       "      <td>0.41978</td>\n",
       "      <td>0.29678</td>\n",
       "      <td>2.51738</td>\n",
       "    </tr>\n",
       "    <tr>\n",
       "      <th>1</th>\n",
       "      <td>1.30232</td>\n",
       "      <td>1.40223</td>\n",
       "      <td>0.94784</td>\n",
       "      <td>0.62877</td>\n",
       "      <td>0.14145</td>\n",
       "      <td>0.43630</td>\n",
       "      <td>2.70201</td>\n",
       "    </tr>\n",
       "    <tr>\n",
       "      <th>2</th>\n",
       "      <td>1.32548</td>\n",
       "      <td>1.36058</td>\n",
       "      <td>0.87464</td>\n",
       "      <td>0.64938</td>\n",
       "      <td>0.48357</td>\n",
       "      <td>0.34139</td>\n",
       "      <td>2.49204</td>\n",
       "    </tr>\n",
       "    <tr>\n",
       "      <th>3</th>\n",
       "      <td>1.45900</td>\n",
       "      <td>1.33095</td>\n",
       "      <td>0.88521</td>\n",
       "      <td>0.66973</td>\n",
       "      <td>0.36503</td>\n",
       "      <td>0.34699</td>\n",
       "      <td>2.46531</td>\n",
       "    </tr>\n",
       "    <tr>\n",
       "      <th>4</th>\n",
       "      <td>1.32629</td>\n",
       "      <td>1.32261</td>\n",
       "      <td>0.90563</td>\n",
       "      <td>0.63297</td>\n",
       "      <td>0.32957</td>\n",
       "      <td>0.45811</td>\n",
       "      <td>2.45176</td>\n",
       "    </tr>\n",
       "  </tbody>\n",
       "</table>\n",
       "</div>"
      ],
      "text/plain": [
       "   Economy (GDP per Capita)   Family  Health (Life Expectancy)  Freedom  \\\n",
       "0                   1.39651  1.34951                   0.94143  0.66557   \n",
       "1                   1.30232  1.40223                   0.94784  0.62877   \n",
       "2                   1.32548  1.36058                   0.87464  0.64938   \n",
       "3                   1.45900  1.33095                   0.88521  0.66973   \n",
       "4                   1.32629  1.32261                   0.90563  0.63297   \n",
       "\n",
       "   Generosity  Trust (Government Corruption)  Dystopia Residual  \n",
       "0     0.41978                        0.29678            2.51738  \n",
       "1     0.14145                        0.43630            2.70201  \n",
       "2     0.48357                        0.34139            2.49204  \n",
       "3     0.36503                        0.34699            2.46531  \n",
       "4     0.32957                        0.45811            2.45176  "
      ]
     },
     "execution_count": 13,
     "metadata": {},
     "output_type": "execute_result"
    }
   ],
   "source": [
    "target=np.concatenate((target1, target2, target3),axis=0)\n",
    "features=np.concatenate((features1,features2,features3),axis=0)\n",
    "target = pd.DataFrame(target, columns=['Target'])\n",
    "target.head()\n",
    "features = pd.DataFrame(features, columns = ['Economy (GDP per Capita)', 'Family',\n",
    "       'Health (Life Expectancy)', 'Freedom', 'Generosity',\n",
    "       'Trust (Government Corruption)', 'Dystopia Residual'])\n",
    "features.head()"
   ]
  },
  {
   "cell_type": "code",
   "execution_count": 14,
   "metadata": {},
   "outputs": [],
   "source": [
    "# t = target.reshape(-1,1)"
   ]
  },
  {
   "cell_type": "markdown",
   "metadata": {},
   "source": [
    "here we are concatenating the features and the final target along axis=1,i.e. all of them become seperate columns."
   ]
  },
  {
   "cell_type": "code",
   "execution_count": 15,
   "metadata": {},
   "outputs": [],
   "source": [
    "ds=pd.concat([features,target], axis = 1)"
   ]
  },
  {
   "cell_type": "code",
   "execution_count": 16,
   "metadata": {},
   "outputs": [
    {
     "data": {
      "text/plain": [
       "(470, 8)"
      ]
     },
     "execution_count": 16,
     "metadata": {},
     "output_type": "execute_result"
    }
   ],
   "source": [
    "ds.shape"
   ]
  },
  {
   "cell_type": "markdown",
   "metadata": {},
   "source": [
    "Data Visualization."
   ]
  },
  {
   "cell_type": "code",
   "execution_count": 17,
   "metadata": {},
   "outputs": [],
   "source": [
    "x=features['Economy (GDP per Capita)']\n",
    "y=ds.Target\n",
    "x = (x-x.min())/(x.max()-x.min())\n",
    "y = (y-y.min())/(y.max()-y.min())"
   ]
  },
  {
   "cell_type": "code",
   "execution_count": 18,
   "metadata": {},
   "outputs": [
    {
     "data": {
      "text/plain": [
       "[<matplotlib.lines.Line2D at 0x6a915ccf98>]"
      ]
     },
     "execution_count": 18,
     "metadata": {},
     "output_type": "execute_result"
    },
    {
     "data": {
      "image/png": "[encoded data removed]",
      "text/plain": [
       "<Figure size 432x288 with 1 Axes>"
      ]
     },
     "metadata": {
      "needs_background": "light"
     },
     "output_type": "display_data"
    }
   ],
   "source": [
    "plt.plot(x,y,'r.')"
   ]
  },
  {
   "cell_type": "code",
   "execution_count": 19,
   "metadata": {},
   "outputs": [],
   "source": [
    "x=features['Family']\n",
    "y=target\n",
    "x = (x-x.min())/(x.max()-x.min())\n",
    "y = (y-y.min())/(y.max()-y.min())"
   ]
  },
  {
   "cell_type": "code",
   "execution_count": 20,
   "metadata": {},
   "outputs": [
    {
     "data": {
      "text/plain": [
       "[<matplotlib.lines.Line2D at 0x6a9162a668>]"
      ]
     },
     "execution_count": 20,
     "metadata": {},
     "output_type": "execute_result"
    },
    {
     "data": {
      "image/png": "[encoded data removed]",
      "text/plain": [
       "<Figure size 432x288 with 1 Axes>"
      ]
     },
     "metadata": {
      "needs_background": "light"
     },
     "output_type": "display_data"
    }
   ],
   "source": [
    "plt.plot(x,y,'r.')"
   ]
  },
  {
   "cell_type": "code",
   "execution_count": 21,
   "metadata": {},
   "outputs": [],
   "source": [
    "x=features['Health (Life Expectancy)']\n",
    "y=target\n",
    "x = (x-x.min())/(x.max()-x.min())\n",
    "y = (y-y.min())/(y.max()-y.min())"
   ]
  },
  {
   "cell_type": "code",
   "execution_count": 22,
   "metadata": {},
   "outputs": [
    {
     "data": {
      "text/plain": [
       "[<matplotlib.lines.Line2D at 0x6a91850a58>]"
      ]
     },
     "execution_count": 22,
     "metadata": {},
     "output_type": "execute_result"
    },
    {
     "data": {
      "image/png": "[encoded data removed]",
      "text/plain": [
       "<Figure size 432x288 with 1 Axes>"
      ]
     },
     "metadata": {
      "needs_background": "light"
     },
     "output_type": "display_data"
    }
   ],
   "source": [
    "plt.plot(x,y,'r.')"
   ]
  },
  {
   "cell_type": "code",
   "execution_count": 23,
   "metadata": {},
   "outputs": [],
   "source": [
    "x=features['Freedom']\n",
    "y=target\n",
    "x = (x-x.min())/(x.max()-x.min())\n",
    "y = (y-y.min())/(y.max()-y.min())"
   ]
  },
  {
   "cell_type": "code",
   "execution_count": 24,
   "metadata": {},
   "outputs": [
    {
     "data": {
      "text/plain": [
       "[<matplotlib.lines.Line2D at 0x6a928fb8d0>]"
      ]
     },
     "execution_count": 24,
     "metadata": {},
     "output_type": "execute_result"
    },
    {
     "data": {
      "image/png": "[encoded data removed]",
      "text/plain": [
       "<Figure size 432x288 with 1 Axes>"
      ]
     },
     "metadata": {
      "needs_background": "light"
     },
     "output_type": "display_data"
    }
   ],
   "source": [
    "plt.plot(x,y,'r.')"
   ]
  },
  {
   "cell_type": "code",
   "execution_count": 25,
   "metadata": {},
   "outputs": [],
   "source": [
    "x=features['Trust (Government Corruption)']\n",
    "y=target\n",
    "x = (x-x.min())/(x.max()-x.min())\n",
    "y = (y-y.min())/(y.max()-y.min())"
   ]
  },
  {
   "cell_type": "code",
   "execution_count": 26,
   "metadata": {},
   "outputs": [
    {
     "data": {
      "text/plain": [
       "[<matplotlib.lines.Line2D at 0x6a92954748>]"
      ]
     },
     "execution_count": 26,
     "metadata": {},
     "output_type": "execute_result"
    },
    {
     "data": {
      "image/png": "[encoded data removed]",
      "text/plain": [
       "<Figure size 432x288 with 1 Axes>"
      ]
     },
     "metadata": {
      "needs_background": "light"
     },
     "output_type": "display_data"
    }
   ],
   "source": [
    "plt.plot(x,y,'r.')"
   ]
  },
  {
   "cell_type": "code",
   "execution_count": 27,
   "metadata": {},
   "outputs": [],
   "source": [
    "x=features['Generosity']\n",
    "y=target\n",
    "x = (x-x.min())/(x.max()-x.min())\n",
    "y = (y-y.min())/(y.max()-y.min())"
   ]
  },
  {
   "cell_type": "code",
   "execution_count": 28,
   "metadata": {},
   "outputs": [
    {
     "data": {
      "text/plain": [
       "[<matplotlib.lines.Line2D at 0x6a929af630>]"
      ]
     },
     "execution_count": 28,
     "metadata": {},
     "output_type": "execute_result"
    },
    {
     "data": {
      "image/png": "[encoded data removed]",
      "text/plain": [
       "<Figure size 432x288 with 1 Axes>"
      ]
     },
     "metadata": {
      "needs_background": "light"
     },
     "output_type": "display_data"
    }
   ],
   "source": [
    "plt.plot(x,y,'r.')"
   ]
  },
  {
   "cell_type": "code",
   "execution_count": 29,
   "metadata": {},
   "outputs": [],
   "source": [
    "x=features['Dystopia Residual']\n",
    "y=target\n",
    "x = (x-x.min())/(x.max()-x.min())\n",
    "y = (y-y.min())/(y.max()-y.min())"
   ]
  },
  {
   "cell_type": "code",
   "execution_count": 30,
   "metadata": {},
   "outputs": [
    {
     "data": {
      "text/plain": [
       "[<matplotlib.lines.Line2D at 0x6a92a0c438>]"
      ]
     },
     "execution_count": 30,
     "metadata": {},
     "output_type": "execute_result"
    },
    {
     "data": {
      "image/png": "[encoded data removed]",
      "text/plain": [
       "<Figure size 432x288 with 1 Axes>"
      ]
     },
     "metadata": {
      "needs_background": "light"
     },
     "output_type": "display_data"
    }
   ],
   "source": [
    "plt.plot(x,y,'r.')"
   ]
  },
  {
   "cell_type": "markdown",
   "metadata": {},
   "source": [
    "From the above data visualization we can see that most of the graphs is linear and hence I am using linear regression."
   ]
  },
  {
   "cell_type": "markdown",
   "metadata": {},
   "source": [
    "We now check the correlation of all the features with the target."
   ]
  },
  {
   "cell_type": "code",
   "execution_count": 31,
   "metadata": {},
   "outputs": [],
   "source": [
    "correlation=ds.corr('pearson')"
   ]
  },
  {
   "cell_type": "code",
   "execution_count": 32,
   "metadata": {},
   "outputs": [
    {
     "data": {
      "text/plain": [
       "Economy (GDP per Capita)         0.785450\n",
       "Family                           0.636532\n",
       "Health (Life Expectancy)         0.748040\n",
       "Freedom                          0.560353\n",
       "Generosity                       0.282130\n",
       "Trust (Government Corruption)    0.221684\n",
       "Dystopia Residual                0.489747\n",
       "Target                           1.000000\n",
       "Name: Target, dtype: float64"
      ]
     },
     "execution_count": 32,
     "metadata": {},
     "output_type": "execute_result"
    }
   ],
   "source": [
    "correlation['Target']"
   ]
  },
  {
   "cell_type": "markdown",
   "metadata": {},
   "source": [
    "Taking two features that affects target the most and converting them into arrays...\n",
    "Here we can see from the correlation that economy and health contributes a lot for a person's happiness..\n",
    "So it is always essential for a person to work hard in life and earn lots of money and also hit the gym at the same time to stay fit..."
   ]
  },
  {
   "cell_type": "code",
   "execution_count": 33,
   "metadata": {},
   "outputs": [
    {
     "data": {
      "text/plain": [
       "array([1.39651   , 1.30232   , 1.32548   , 1.459     , 1.32629   ,\n",
       "       1.29025   , 1.32944   , 1.33171   , 1.25018   , 1.33358   ,\n",
       "       1.22857   , 0.95578   , 1.33723   , 1.02054   , 1.39451   ,\n",
       "       0.98124   , 1.56391   , 1.33596   , 1.30782   , 1.42727   ,\n",
       "       1.26637   , 1.36011   , 1.04424   , 1.52186   , 1.06353   ,\n",
       "       1.32792   , 1.10715   , 1.69042   , 1.27778   , 1.05351   ,\n",
       "       1.17898   , 1.06166   , 0.91861   , 0.9669    , 1.39541   ,\n",
       "       1.23011   , 1.2074    , 1.29098   , 1.55422   , 0.99534   ,\n",
       "       1.21183   , 0.76454   , 0.74553   , 0.63244   , 1.16891   ,\n",
       "       1.27074   , 1.24461   , 0.86402   , 1.32376   , 1.25114   ,\n",
       "       0.68133   , 0.59448   , 0.75985   , 1.12254   , 1.18498   ,\n",
       "       1.14723   , 0.59325   , 0.90019   , 1.03192   , 1.12555   ,\n",
       "       1.12486   , 1.08254   , 1.13145   , 1.13764   , 0.81038   ,\n",
       "       1.20806   , 1.20813   , 0.93929   , 0.80148   , 0.95847   ,\n",
       "       1.00761   , 1.38604   , 1.15174   , 0.82827   , 0.63216   ,\n",
       "       1.06098   , 0.47428   , 0.65435   , 0.77042   , 1.02389   ,\n",
       "       0.59543   , 0.90198   , 0.97438   , 0.89012   , 0.47038   ,\n",
       "       1.04345   , 0.92053   , 1.15991   , 1.11312   , 0.70532   ,\n",
       "       0.18847   , 0.73479   , 0.91851   , 0.08308   , 0.87867   ,\n",
       "       0.83223   , 0.37545   , 0.89537   , 0.59066   , 0.82819   ,\n",
       "       0.71206   , 1.15406   , 1.02564   , 1.12094   , 0.59532   ,\n",
       "       0.39047   , 0.88113   , 0.59867   , 0.39753   , 1.0088    ,\n",
       "       0.79907   , 0.98549   , 0.92049   , 0.54558   , 0.271     ,\n",
       "       0.0712    , 0.64499   , 0.52107   , 0.26673   , 0.        ,\n",
       "       0.35997   , 0.19073   , 0.33024   , 0.45407   , 0.36471   ,\n",
       "       0.44025   , 0.76821   , 0.99355   , 0.27108   , 0.7419    ,\n",
       "       0.01604   , 0.83524   , 0.4225    , 1.01216   , 0.8818    ,\n",
       "       0.54649   , 0.75778   , 0.26074   , 0.67866   , 0.23906   ,\n",
       "       0.21102   , 0.36498   , 1.06024   , 0.0694    , 0.46038   ,\n",
       "       0.2852    , 0.20824   , 0.0785    , 0.34193   , 0.17417   ,\n",
       "       0.46534   , 0.25812   , 0.31982   , 0.22208   , 0.28665   ,\n",
       "       0.6632    , 0.0153    , 0.20868   , 1.44178   , 1.52733   ,\n",
       "       1.42666   , 1.57744   , 1.40598   , 1.44015   , 1.46468   ,\n",
       "       1.36066   , 1.44443   , 1.45181   , 1.33766   , 1.45038   ,\n",
       "       1.50796   , 1.06879   , 1.35943   , 1.44787   , 1.08754   ,\n",
       "       1.42539   , 1.48341   , 1.69752   , 1.11508   , 1.64555   ,\n",
       "       1.40283   , 1.2167    , 1.18306   , 1.15137   , 1.30915   ,\n",
       "       1.57352   , 1.18157   , 1.30782   , 1.03032   , 1.39488   ,\n",
       "       1.0893    , 1.48953   , 1.39729   , 1.82427   , 1.34253   ,\n",
       "       1.05266   , 0.83454   , 1.09686   , 1.61714   , 1.44024   ,\n",
       "       1.32572   , 1.13367   , 1.27973   , 0.8737    , 1.25142   ,\n",
       "       0.69384   , 0.73591   , 1.35495   , 0.97306   , 0.87616   ,\n",
       "       1.38007   , 1.22943   , 0.69177   , 1.23228   , 1.24585   ,\n",
       "       1.35948   , 0.79422   , 1.2692    , 1.13062   , 1.31141   ,\n",
       "       1.29947   , 0.99602   , 1.08017   , 1.14372   , 1.06688   ,\n",
       "       1.21788   , 1.31857   , 0.89373   , 1.1697    , 1.27964   ,\n",
       "       0.89333   , 1.18649   , 1.5107    , 0.        , 0.90145   ,\n",
       "       1.16492   , 0.95104   , 0.99673   , 1.12373   , 0.81217   ,\n",
       "       1.0278    , 0.8527    , 0.56044   , 1.03437   , 0.93383   ,\n",
       "       1.07838   , 1.02787   , 0.84058   , 1.24142   , 0.68816   ,\n",
       "       1.12268   , 1.27607   , 1.0193    , 0.74037   , 0.25558   ,\n",
       "       0.97724   , 1.24886   , 0.48835   , 0.98853   , 0.68042   ,\n",
       "       0.75216   , 0.69429   , 1.11758   , 0.61202   , 0.44626   ,\n",
       "       0.67024   , 0.9553    , 0.54177   , 0.36485   , 1.07474   ,\n",
       "       0.93287   , 0.52497   , 0.29283   , 1.02416   , 0.97318   ,\n",
       "       0.74036   , 0.34112   , 0.95395   , 0.86086   , 0.52267   ,\n",
       "       0.87287   , 0.63107   , 0.05661   , 0.83792   , 0.77109   ,\n",
       "       0.44314   , 1.11306   , 0.61391   , 0.35041   , 0.08709   ,\n",
       "       0.63069   , 1.15851   , 0.31292   , 0.34097   , 1.09426   ,\n",
       "       0.27509   , 0.55507   , 0.55604   , 0.84731   , 0.1327    ,\n",
       "       0.39394   , 0.42214   , 0.31995   , 0.34719   , 0.57939   ,\n",
       "       0.27954   , 0.47155   , 0.10706   , 0.22415   , 0.32846   ,\n",
       "       0.39499   , 0.38227   , 0.28123   , 0.74719   , 0.06831   ,\n",
       "       1.61646318, 1.48238301, 1.48063302, 1.56497955, 1.44357193,\n",
       "       1.50394464, 1.47920442, 1.40570605, 1.49438727, 1.48441494,\n",
       "       1.37538242, 1.10970628, 1.48709726, 1.54625928, 1.53570664,\n",
       "       1.48792338, 1.46378076, 1.7419436 , 1.44163394, 1.25278461,\n",
       "       1.62634337, 1.10735321, 1.35268235, 1.18529546, 1.15318382,\n",
       "       1.69227767, 1.34327984, 1.2175597 , 0.87200195, 1.23374844,\n",
       "       1.43092346, 1.12786877, 1.43362653, 1.38439786, 1.87076569,\n",
       "       1.07062232, 1.53062356, 1.3613559 , 1.63295245, 1.32539356,\n",
       "       1.48841226, 1.29121542, 0.7372992 , 1.0008204 , 0.9097845 ,\n",
       "       1.29178786, 0.78644109, 1.39506662, 1.2817781 , 0.90797532,\n",
       "       1.41691518, 1.31458235, 1.09186447, 1.26074862, 1.40167844,\n",
       "       0.72887063, 1.21768391, 0.83375657, 1.13077676, 1.28455627,\n",
       "       1.34691131, 1.34120595, 1.03522527, 1.18939555, 1.35593808,\n",
       "       1.32087934, 1.15655756, 1.10180306, 1.19827437, 0.93253732,\n",
       "       1.55167484, 0.85769922, 1.06931758, 0.99101239, 1.28601193,\n",
       "       0.92557931, 1.22255623, 0.95148438, 1.08116579, 0.72688353,\n",
       "       0.99553859, 1.1284312 , 1.12112904, 0.87811458, 1.15360177,\n",
       "       1.07937384, 1.28948748, 1.07498753, 1.31517529, 0.98240942,\n",
       "       0.73057312, 1.06457794, 0.02264318, 0.78854758, 0.78375626,\n",
       "       0.52471364, 0.88541639, 0.59622008, 0.47982019, 1.02723587,\n",
       "       1.05469871, 1.00726581, 0.71624923, 0.98970181, 1.16145909,\n",
       "       0.36842093, 0.56430537, 1.15687311, 0.99619275, 0.58668298,\n",
       "       0.96443433, 0.56047946, 0.23430565, 0.36711055, 0.47930902,\n",
       "       0.63640678, 1.10271049, 1.19821024, 0.33923385, 1.00985014,\n",
       "       0.90059674, 0.79222125, 0.64845729, 0.80896425, 0.95061266,\n",
       "       0.09210235, 0.47618049, 0.60304892, 0.6017651 , 0.65951669,\n",
       "       0.66722482, 0.89465195, 0.38143072, 0.35022771, 0.16192533,\n",
       "       0.23344204, 0.43801299, 0.37584653, 0.52102125, 0.85842818,\n",
       "       0.40147722, 1.12209415, 0.43108541, 0.30580869, 0.36861026,\n",
       "       0.59168345, 0.39724863, 0.11904179, 0.24454993, 0.30544472,\n",
       "       0.36874589, 0.77715313, 0.51113588, 0.09162257, 0.        ])"
      ]
     },
     "execution_count": 33,
     "metadata": {},
     "output_type": "execute_result"
    }
   ],
   "source": [
    "X1=ds['Economy (GDP per Capita)']\n",
    "X2=ds['Health (Life Expectancy)']\n",
    "X1=np.array(X1)\n",
    "X2=np.array(X2)\n",
    "X1"
   ]
  },
  {
   "cell_type": "code",
   "execution_count": 34,
   "metadata": {},
   "outputs": [],
   "source": [
    "Y=ds['Target']"
   ]
  },
  {
   "cell_type": "markdown",
   "metadata": {},
   "source": [
    "Data Normalization."
   ]
  },
  {
   "cell_type": "code",
   "execution_count": 35,
   "metadata": {},
   "outputs": [],
   "source": [
    "X1=(X1-X1.min())/(X1.max()-X1.min())\n",
    "X2=(X2-X2.min())/(X2.max()-X2.min())\n",
    "Y=(Y-Y.min())/(Y.max()-Y.min())\n",
    "Y=np.array(Y)"
   ]
  },
  {
   "cell_type": "markdown",
   "metadata": {},
   "source": [
    "Splitting the dataset into train and test data."
   ]
  },
  {
   "cell_type": "code",
   "execution_count": 36,
   "metadata": {},
   "outputs": [],
   "source": [
    "x1_train, x1_test, x2_train, x2_test, y_train, y_test = train_test_split(X1, X2, Y, test_size=0.2)"
   ]
  },
  {
   "cell_type": "markdown",
   "metadata": {},
   "source": [
    "Plotting a 3D graph."
   ]
  },
  {
   "cell_type": "code",
   "execution_count": 37,
   "metadata": {},
   "outputs": [
    {
     "data": {
      "image/png": "[encoded data removed]",
      "text/plain": [
       "<Figure size 432x288 with 1 Axes>"
      ]
     },
     "metadata": {
      "needs_background": "light"
     },
     "output_type": "display_data"
    }
   ],
   "source": [
    "fig = plt.figure()\n",
    "ax = fig.add_subplot(111, projection='3d')\n",
    "\n",
    "ax.plot(x1_train, x2_train, y_train, 'g.')\n",
    "ax.view_init(35,90)"
   ]
  },
  {
   "cell_type": "code",
   "execution_count": 38,
   "metadata": {},
   "outputs": [],
   "source": [
    "x1=np.array(X1)\n",
    "x2=np.array(X2)\n",
    "y=np.array(Y)"
   ]
  },
  {
   "cell_type": "code",
   "execution_count": 39,
   "metadata": {},
   "outputs": [
    {
     "data": {
      "text/plain": [
       "376"
      ]
     },
     "execution_count": 39,
     "metadata": {},
     "output_type": "execute_result"
    }
   ],
   "source": [
    "x1_train.size"
   ]
  },
  {
   "cell_type": "code",
   "execution_count": 40,
   "metadata": {},
   "outputs": [
    {
     "data": {
      "text/plain": [
       "94"
      ]
     },
     "execution_count": 40,
     "metadata": {},
     "output_type": "execute_result"
    }
   ],
   "source": [
    "len(x1_test)"
   ]
  },
  {
   "cell_type": "code",
   "execution_count": 41,
   "metadata": {},
   "outputs": [],
   "source": [
    "def hypothesis(a,x1,x2,b,c,d):\n",
    "    return a * x1 + b*np.exp((-c*x2)) +d"
   ]
  },
  {
   "cell_type": "code",
   "execution_count": 42,
   "metadata": {},
   "outputs": [],
   "source": [
    "def error(a,x1,x2,b,y,c,d):\n",
    "    e=0\n",
    "    m=len(y)\n",
    "    for i in range(m):\n",
    "        e+=np.power((hypothesis(a,x1[i],x2[i],b,c,d)-y[i]),2)\n",
    "    return (1/(2*m)*e)"
   ]
  },
  {
   "cell_type": "code",
   "execution_count": 43,
   "metadata": {},
   "outputs": [],
   "source": [
    "def step_gradient(a,x1,x2,b,y,learning_rate,c,d):\n",
    "    grad_a=0\n",
    "    grad_b=0\n",
    "    grad_c=0\n",
    "    grad_d=0\n",
    "   \n",
    "   \n",
    "    m=len(y)\n",
    "    for i in range(m):\n",
    "        grad_a += 2/m * (hypothesis(a,x1[i],x2[i],b,c,d)-y[i])*x1[i]\n",
    "        grad_b += 2/m * (hypothesis(a,x1[i],x2[i],b,c,d)-y[i])*np.exp((-c*x2[i]))\n",
    "        grad_c += 2/m * (hypothesis(a,x1[i],x2[i],b,c,d)-y[i])*(-b*x2[i]*np.exp((-c*x2[i])))\n",
    "        grad_d += 2/m * (hypothesis(a,x1[i],x2[i],b,c,d)-y[i])\n",
    "     \n",
    "       \n",
    "    a=a-(grad_a*learning_rate)\n",
    "    b=b-(grad_b*learning_rate)\n",
    "    c=c-(grad_c*learning_rate)\n",
    "    d=d-(grad_d*learning_rate)\n",
    "   \n",
    "    \n",
    "    \n",
    "    return a,b,c,d"
   ]
  },
  {
   "cell_type": "code",
   "execution_count": 44,
   "metadata": {},
   "outputs": [],
   "source": [
    "def descend(initial_a,initial_b,initial_c,initial_d,x1,x2,y,learning_rate,iterations):\n",
    "    a=initial_a\n",
    "    b=initial_b\n",
    "    c=initial_c\n",
    "    d=initial_d\n",
    "  \n",
    "   \n",
    "    for i in range(iterations):\n",
    "        e=error(a,x1,x2,b,y,c,d)\n",
    "        a,b,c,d=step_gradient(a,x1,x2,b,y,learning_rate,c,d)\n",
    "        if i % 1000 == 0:\n",
    "            print(f\"Error: {e},a:{a},b:{b},c:{c},d:{d}\")\n",
    "    return a,b,c,d"
   ]
  },
  {
   "cell_type": "code",
   "execution_count": 45,
   "metadata": {},
   "outputs": [],
   "source": [
    "\n",
    "init_a=1\n",
    "init_b=1\n",
    "init_c=1\n",
    "init_d=1\n",
    "\n",
    "\n",
    "iters=10000\n",
    "learning_rate=0.01"
   ]
  },
  {
   "cell_type": "code",
   "execution_count": 46,
   "metadata": {},
   "outputs": [
    {
     "name": "stdout",
     "output_type": "stream",
     "text": [
      "Error: 1.1997323594349847,a:0.9847890512563623,b:0.981734949023173,c:1.0089270978473233,d:0.9692932148165037\n",
      "Error: 0.011640282015828392,a:0.7959858210741769,b:0.17874348193362607,c:1.1519086519615127,d:0.051825202472193924\n",
      "Error: 0.010730924128809757,a:0.8518899998443984,b:0.06748766797231746,c:1.1447587480126533,d:0.08289488868876006\n",
      "Error: 0.01048738203077732,a:0.8478256216973865,b:0.007879648344793266,c:1.1433238015865632,d:0.11716475128240718\n",
      "Error: 0.010323935352683125,a:0.8292962357926171,b:-0.035063995484357756,c:1.1437392702813522,d:0.1498646633927595\n",
      "Error: 0.010192103336972609,a:0.8084443956272487,b:-0.07100801195586903,c:1.1450886391344162,d:0.17994588973728642\n",
      "Error: 0.010083757534340286,a:0.7884081037552584,b:-0.10279260185455878,c:1.1469785895140598,d:0.20732344226778301\n",
      "Error: 0.009994598830655212,a:0.7699043923461452,b:-0.13138919533299215,c:1.1491550308169867,d:0.23215473982835516\n",
      "Error: 0.009921278612104109,a:0.7530105269040754,b:-0.15724456536431908,c:1.1514301078948492,d:0.2546476461436766\n",
      "Error: 0.009861047149339284,a:0.7376436183709034,b:-0.18064797236142144,c:1.1536628072543071,d:0.2750100660583756\n"
     ]
    }
   ],
   "source": [
    "final_a,final_b,final_c,final_d=descend(init_a,init_b,init_c,init_d,x1_train,x2_train,y_train,learning_rate,iters)"
   ]
  },
  {
   "cell_type": "code",
   "execution_count": 49,
   "metadata": {},
   "outputs": [
    {
     "data": {
      "text/plain": [
       "0.009204637688747238"
      ]
     },
     "execution_count": 49,
     "metadata": {},
     "output_type": "execute_result"
    }
   ],
   "source": [
    "a=0.7376436183709034\n",
    "b=-0.18064797236142144\n",
    "c=1.1536628072543071\n",
    "d=0.2750100660583756\n",
    "\n",
    "error(a,x1_test,x2_test,b,y_test,c,d)"
   ]
  },
  {
   "cell_type": "code",
   "execution_count": 50,
   "metadata": {},
   "outputs": [
    {
     "data": {
      "text/plain": [
       "(0.723701119320824, -0.20181237280138165)"
      ]
     },
     "execution_count": 50,
     "metadata": {},
     "output_type": "execute_result"
    }
   ],
   "source": [
    "final_a,final_b"
   ]
  }
 ],
 "metadata": {
  "kernelspec": {
   "display_name": "Python 3",
   "language": "python",
   "name": "python3"
  },
  "language_info": {
   "codemirror_mode": {
    "name": "ipython",
    "version": 3
   },
   "file_extension": ".py",
   "mimetype": "text/x-python",
   "name": "python",
   "nbconvert_exporter": "python",
   "pygments_lexer": "ipython3",
   "version": "3.7.1"
  }
 },
 "nbformat": 4,
 "nbformat_minor": 2
}
